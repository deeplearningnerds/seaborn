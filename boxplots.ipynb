{
 "cells": [
  {
   "cell_type": "markdown",
   "metadata": {},
   "source": [
    "## Import Packages"
   ]
  },
  {
   "cell_type": "code",
   "execution_count": 31,
   "metadata": {},
   "outputs": [],
   "source": [
    "import matplotlib.pyplot as plt\n",
    "import seaborn as sns\n",
    "import numpy as np\n",
    "import pandas as pd"
   ]
  },
  {
   "cell_type": "markdown",
   "metadata": {},
   "source": [
    "## Defining Data"
   ]
  },
  {
   "cell_type": "markdown",
   "metadata": {},
   "source": [
    "Let's define our example data. We consider the exam results of a university class. The number of points ranges from 0 to 100. We consider a class with 20 students that took part in five exams. "
   ]
  },
  {
   "cell_type": "code",
   "execution_count": 8,
   "metadata": {},
   "outputs": [
    {
     "name": "stdout",
     "output_type": "stream",
     "text": [
      "[[70 52 65 32 26]\n",
      " [31 98 80 25 41]\n",
      " [17 26 14  3 46]\n",
      " [99  6 61 83 37]\n",
      " [32 52  7  4 59]\n",
      " [26 26 21 99 73]\n",
      " [28  7 31 40 47]\n",
      " [69 65 72 56 90]\n",
      " [ 0 65 87 58 30]\n",
      " [34 87 20 63  3]\n",
      " [37 46 88 89 92]\n",
      " [81 87 80 11 24]\n",
      " [71 60 38 88 80]\n",
      " [74 66 33 83 44]\n",
      " [57 53  6 45 95]\n",
      " [85 22 99 56 54]\n",
      " [20 87 74 72 12]\n",
      " [88 11 15 66 32]\n",
      " [74 33 58  0 13]\n",
      " [59 43 91 50 53]]\n"
     ]
    }
   ],
   "source": [
    "exam_result = np.random.randint(100, size=(20,5))\n",
    "\n",
    "print(exam_result)"
   ]
  },
  {
   "cell_type": "markdown",
   "metadata": {},
   "source": [
    "Let's store the data in a data frame"
   ]
  },
  {
   "cell_type": "code",
   "execution_count": 50,
   "metadata": {},
   "outputs": [
    {
     "name": "stdout",
     "output_type": "stream",
     "text": [
      "    Machine Learning  Statistics  Computer Science  Neural Networks  Economics\n",
      "0                 70          52                65               32         26\n",
      "1                 31          98                80               25         41\n",
      "2                 17          26                14                3         46\n",
      "3                 99           6                61               83         37\n",
      "4                 32          52                 7                4         59\n",
      "5                 26          26                21               99         73\n",
      "6                 28           7                31               40         47\n",
      "7                 69          65                72               56         90\n",
      "8                  0          65                87               58         30\n",
      "9                 34          87                20               63          3\n",
      "10                37          46                88               89         92\n",
      "11                81          87                80               11         24\n",
      "12                71          60                38               88         80\n",
      "13                74          66                33               83         44\n",
      "14                57          53                 6               45         95\n",
      "15                85          22                99               56         54\n",
      "16                20          87                74               72         12\n",
      "17                88          11                15               66         32\n",
      "18                74          33                58                0         13\n",
      "19                59          43                91               50         53\n"
     ]
    }
   ],
   "source": [
    "df = pd.DataFrame(exam_result, columns=['Machine Learning',\n",
    "                                        'Statistics', \n",
    "                                        'Computer Science', \n",
    "                                        'Neural Networks', \n",
    "                                        'Economics'])\n",
    "print(df)"
   ]
  },
  {
   "cell_type": "markdown",
   "metadata": {},
   "source": [
    "## Boxplot"
   ]
  },
  {
   "cell_type": "markdown",
   "metadata": {},
   "source": [
    "Now, we would like to visualize our exam results with a boxplot"
   ]
  },
  {
   "cell_type": "code",
   "execution_count": 51,
   "metadata": {},
   "outputs": [
    {
     "data": {
      "image/png": "[encoded data removed]",
      "text/plain": [
       "<Figure size 864x576 with 1 Axes>"
      ]
     },
     "metadata": {
      "needs_background": "light"
     },
     "output_type": "display_data"
    }
   ],
   "source": [
    "#Set figure size\n",
    "f = plt.figure()\n",
    "f.set_figwidth(12)\n",
    "f.set_figheight(8)\n",
    "\n",
    "# plotting the boxplot\n",
    "boxplot = sns.boxplot(data = df)\n",
    "  \n",
    "# displaying the plotted boxplot\n",
    "plt.xlabel(\"Exam\")\n",
    "plt.ylabel(\"Points\")\n",
    "plt.tight_layout()\n",
    "plt.show()"
   ]
  }
 ],
 "metadata": {
  "kernelspec": {
   "display_name": "Python 3",
   "language": "python",
   "name": "python3"
  },
  "language_info": {
   "codemirror_mode": {
    "name": "ipython",
    "version": 3
   },
   "file_extension": ".py",
   "mimetype": "text/x-python",
   "name": "python",
   "nbconvert_exporter": "python",
   "pygments_lexer": "ipython3",
   "version": "3.7.9"
  }
 },
 "nbformat": 4,
 "nbformat_minor": 4
}
