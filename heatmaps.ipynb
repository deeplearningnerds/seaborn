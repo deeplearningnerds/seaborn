{
 "cells": [
  {
   "cell_type": "markdown",
   "metadata": {},
   "source": [
    "## Import Packages"
   ]
  },
  {
   "cell_type": "code",
   "execution_count": 11,
   "metadata": {},
   "outputs": [],
   "source": [
    "import matplotlib.pyplot as plt\n",
    "import seaborn as sns\n",
    "import numpy as np"
   ]
  },
  {
   "cell_type": "markdown",
   "metadata": {},
   "source": [
    "## Defining Data"
   ]
  },
  {
   "cell_type": "markdown",
   "metadata": {},
   "source": [
    "Let's define our example data. We consider the exam results of a university class. The number of points ranges from 0 to 100. We consider a class with 20 students that took part in five exams."
   ]
  },
  {
   "cell_type": "code",
   "execution_count": 28,
   "metadata": {},
   "outputs": [
    {
     "name": "stdout",
     "output_type": "stream",
     "text": [
      "[[27 39 91 85 85 96 21 13  1 46 78 93  6 71  7 15 56 87 37  2]\n",
      " [45 89 22 91 91 26 37 37 31 22 49 30 50 35 13 86 42  9 51 44]\n",
      " [85 67 77 59 19 39 44 52 25  9 69 91 89 13  9 94 14 15 15 11]\n",
      " [60 40 59 46 44 81 81 25 26 10 54 52 31 32 99 72  1  3 46 26]\n",
      " [67 25 99 92 97 79 84 42 61 36 88 34 98  5 23 89 86 93 79 17]]\n"
     ]
    }
   ],
   "source": [
    "exam_result = np.random.randint(100, size=(5,20))\n",
    "\n",
    "print(exam_result)"
   ]
  },
  {
   "cell_type": "markdown",
   "metadata": {},
   "source": [
    "## Heatmap"
   ]
  },
  {
   "cell_type": "code",
   "execution_count": 51,
   "metadata": {
    "scrolled": true
   },
   "outputs": [
    {
     "data": {
      "image/png": "[encoded data removed]",
      "text/plain": [
       "<Figure size 432x288 with 2 Axes>"
      ]
     },
     "metadata": {
      "needs_background": "light"
     },
     "output_type": "display_data"
    }
   ],
   "source": [
    "# plotting the heatmap\n",
    "hm = sns.heatmap(data = exam_result, cmap='Blues',\n",
    "                yticklabels = ('Machine Learning', 'Statistics', 'Computer Science', \n",
    "                               'Neural Networks', 'Economics'))\n",
    "  \n",
    "# displaying the plotted heatmap\n",
    "plt.xlabel(\"Student Number\")\n",
    "plt.ylabel(\"Exam\")\n",
    "plt.show()"
   ]
  }
 ],
 "metadata": {
  "kernelspec": {
   "display_name": "Python 3",
   "language": "python",
   "name": "python3"
  },
  "language_info": {
   "codemirror_mode": {
    "name": "ipython",
    "version": 3
   },
   "file_extension": ".py",
   "mimetype": "text/x-python",
   "name": "python",
   "nbconvert_exporter": "python",
   "pygments_lexer": "ipython3",
   "version": "3.7.9"
  }
 },
 "nbformat": 4,
 "nbformat_minor": 4
}
